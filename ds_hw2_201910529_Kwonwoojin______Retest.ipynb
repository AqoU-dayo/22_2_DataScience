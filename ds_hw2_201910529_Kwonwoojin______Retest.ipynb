{
  "cells": [
    {
      "cell_type": "markdown",
      "metadata": {
        "id": "view-in-github",
        "colab_type": "text"
      },
      "source": [
        "<a href=\"https://colab.research.google.com/github/AqoU-dayo/22_2_DataScience/blob/main/ds_hw2_201910529_Kwonwoojin______Retest.ipynb\" target=\"_parent\"><img src=\"https://colab.research.google.com/assets/colab-badge.svg\" alt=\"Open In Colab\"/></a>"
      ]
    },
    {
      "cell_type": "markdown",
      "metadata": {
        "_uuid": "e7b6d47fd0acfa7f50fb062aa0ea9c5e39d5702a",
        "id": "CHqd3nr9-NKE"
      },
      "source": [
        "# Data Science HW2:  Linear Regression and Stochastic Gradient Descent\n",
        "# (양식파일 업데이트 버전)\n",
        "이번 과제는 Stochastic Gradient Descent로 train 하는 Linear Regressor를 Sklearn API를 extension 하여 직접 구현합니다. 직접 구현한 코드를 sklearn의 linear \n",
        "\n",
        "*   Base Class가 되는 BaseEstimator는 sklearn web site를 참고할 것. \n",
        "https://scikit-learn.org/stable/modules/generated/sklearn.base.BaseEstimator.html \n",
        "* \"your code\" 라고 쓰여져 있는 code section에 code 와 간단한 comments 를 추가할 것\n",
        "* Dataset은 eCampus 과제에 첨부되어진 weights_heights.csv 사용 \n",
        "* 아래 섹션에 학번과 이름을 기입할 것\n",
        "\n",
        "# Submission Guideline \n",
        "* 실행된 결과가 있는 Code를 ds_hw2_학번_영어로이름.ipynb 로 해서 eCampus에 제출합니다. (한글 이름은 깨짐으로 사용하지 말것.) \n",
        "* Deadline: 11월 6일 일요일 23:59분 \n",
        "\n",
        "# Late Policy: \n",
        "* Late Submission: Your score will be discounted 10% per day, upto 3 days. \n",
        "* Your submission later than 11월 9일 수요일 23:59분 will NOT BE ACCEPTED."
      ]
    },
    {
      "cell_type": "markdown",
      "metadata": {
        "_uuid": "ab60e2f37db47b71f08414ea20a335bacb699fb5",
        "id": "rOrax6JV-NKH"
      },
      "source": [
        "## 학번: 201910529\n",
        "## 이름: 권우진"
      ]
    },
    {
      "cell_type": "markdown",
      "metadata": {
        "_uuid": "004ac2081acafc7bb2c3b48bec97815be48e3256",
        "id": "IzgB4pud-NKH"
      },
      "source": [
        "## <center>Linear regression and Stochastic Gradient Descent"
      ]
    },
    {
      "cell_type": "code",
      "execution_count": 1,
      "metadata": {
        "_uuid": "a6b0bb1582f5593c7f02cd5219eaccb28758c9f0",
        "id": "zaRfS-p9-NKI"
      },
      "outputs": [],
      "source": [
        "import numpy as np\n",
        "import pandas as pd\n",
        "from tqdm import tqdm\n",
        "from sklearn.base import BaseEstimator\n",
        "from sklearn.metrics import mean_squared_error, log_loss, roc_auc_score\n",
        "from sklearn.model_selection import train_test_split\n",
        "%matplotlib inline\n",
        "from matplotlib import pyplot as plt\n",
        "import seaborn as sns\n",
        "from sklearn.preprocessing import StandardScaler"
      ]
    },
    {
      "cell_type": "markdown",
      "metadata": {
        "_uuid": "4046185f0d664d32e72585d85bf929db97b87222",
        "id": "AObRLEnP-NKJ"
      },
      "source": [
        "**Implement class `SGDRegressor`. Specification:**\n",
        "- class is inherited from `sklearn.base.BaseEstimator`\n",
        "- constructor takes parameters `eta` – gradient step ($10^{-3}$ by default) and `n_epochs` – dataset pass count (3 by default)\n",
        "- constructor also creates `mse_` and `weights_` lists in order to track mean squared error and weight vector during gradient descent iterations\n",
        "- Class has `fit` and `predict` methods\n",
        "- The `fit` method takes matrix `X` and vector `y` (`numpy.array` objects) as parameters, appends column of ones to  `X` on the left side, initializes weight vector `w` with **zeros** and then makes `n_epochs` iterations of weight updates, and for every iteration logs mean squared error and weight vector `w` in corresponding lists we created in the constructor. \n",
        "- Additionally the `fit` method will create `w_` variable to store weights which produce minimal mean squared error\n",
        "- The `fit` method returns current instance of the `SGDRegressor` class, i.e. `self`\n",
        "- The `predict` method takes `X` matrix, adds column of ones to the left side and returns prediction vector, using weight vector `w_`, created by the `fit` method."
      ]
    },
    {
      "cell_type": "code",
      "execution_count": 10,
      "metadata": {
        "_uuid": "70b6bac0390e590377c2c22562a006636eaa4cc4",
        "id": "H3Jvh-cx-NKJ"
      },
      "outputs": [],
      "source": [
        "class SGDRegressor(BaseEstimator):\n",
        "    # you code here\n",
        "      def __init__(self, eta=1e-3, n_epochs=3):\n",
        "        self.eta = eta\n",
        "        self.n_epochs = n_epochs\n",
        "        self.mse_ = []\n",
        "        self.weights_ = []\n",
        "        \n",
        "      def fit(self, X, y):\n",
        "        # add a column of ones to the left from X\n",
        "        X = np.hstack([np.ones([X.shape[0], 1]), X])\n",
        "        \n",
        "        # initialize w with zeros, (d + 1)-dimensional (2-dimensional)\n",
        "        w = np.zeros(X.shape[1])\n",
        "        \n",
        "        for it in tqdm(range(self.n_epochs)):\n",
        "            for i in range(X.shape[0]):\n",
        "                                  \n",
        "                # new_w is used for simultanious updates of w_0, w_1, ..., w_d\n",
        "                new_w = w.copy()\n",
        "                # special (simpler) formula for w_0\n",
        "                new_w[0] += self.eta * (y[i] - w.dot(X[i, :]))\n",
        "                for j in range(1, X.shape[1]):\n",
        "                    new_w[j] += self.eta * (y[i] - w.dot(X[i, :])) * X[i, j]  \n",
        "                w = new_w.copy()\n",
        "                \n",
        "                # store the current weight vector\n",
        "                self.weights_.append(w)\n",
        "                # store current loss function\n",
        "                self.mse_.append(mean_squared_error(y, X.dot(w)))\n",
        "        # the \"best\" vector of weights        \n",
        "        self.w_ = self.weights_[np.argmin(self.mse_)]\n",
        "                \n",
        "        return self\n",
        "                  \n",
        "      def predict(self, X):\n",
        "        # add a column of ones to the left from X\n",
        "        X = np.hstack([np.ones([X.shape[0], 1]), X])\n",
        "        # linear prediction\n",
        "        return X.dot(self.w_)              "
      ]
    },
    {
      "cell_type": "markdown",
      "metadata": {
        "_uuid": "4e0bc1895989329650557bc8f469cb33f692d1a4",
        "id": "_VFkeBtG-NKJ"
      },
      "source": [
        "**Use the dataset in the eCampus.**\n",
        "Let's test out the algorithm on height/weight data. We will predict heights (in inches) based on weights (in lbs)."
      ]
    },
    {
      "cell_type": "code",
      "execution_count": 3,
      "metadata": {
        "_uuid": "4baa092f182db4ac4f2cc8d4557c5ed09a89b178",
        "id": "yIY-SMmw-NKK"
      },
      "outputs": [],
      "source": [
        "data_demo = pd.read_csv('weights_heights.csv')"
      ]
    },
    {
      "cell_type": "code",
      "execution_count": 4,
      "metadata": {
        "_uuid": "4a1a3dacc860c74d2c39811e28af0d0cc69dd0ea",
        "id": "7CfDRWOm-NKK",
        "colab": {
          "base_uri": "https://localhost:8080/",
          "height": 279
        },
        "outputId": "cb5f59b5-9019-48af-c854-2961d82313e3"
      },
      "outputs": [
        {
          "output_type": "display_data",
          "data": {
            "text/plain": [
              "<Figure size 432x288 with 1 Axes>"
            ],
            "image/png": "[encoded data removed]"
          },
          "metadata": {
            "needs_background": "light"
          }
        }
      ],
      "source": [
        "plt.scatter(data_demo['Weight'], data_demo['Height']);\n",
        "plt.xlabel('Weight (lbs)')\n",
        "plt.ylabel('Height (Inch)')\n",
        "plt.grid();"
      ]
    },
    {
      "cell_type": "code",
      "execution_count": 11,
      "metadata": {
        "_uuid": "760f39db3fd5efefe9e9e1b001b6df034f9575a7",
        "id": "hKZy2DC4-NKK"
      },
      "outputs": [],
      "source": [
        "# X ; Weight, Y : Height\n",
        "X, y = data_demo['Weight'].values, data_demo['Height'].values"
      ]
    },
    {
      "cell_type": "markdown",
      "metadata": {
        "_uuid": "47bc57020935c57feadea43025d28adea20e31a7",
        "id": "rY68OrEP-NKK"
      },
      "source": [
        "**Perform train/test split and scale data.**"
      ]
    },
    {
      "cell_type": "code",
      "execution_count": 12,
      "metadata": {
        "_uuid": "3908032cf11872f75c0794c89600f452d8ba1175",
        "id": "4h9eqULX-NKL"
      },
      "outputs": [],
      "source": [
        "X_train, X_valid, y_train, y_valid = train_test_split(X, y,\n",
        "                                                     test_size=0.3,\n",
        "                                                     random_state=17)"
      ]
    },
    {
      "cell_type": "code",
      "execution_count": 13,
      "metadata": {
        "_uuid": "5c72768f019fa199027dfa60e50d979dafa90885",
        "id": "5kP-6yN6-NKL"
      },
      "outputs": [],
      "source": [
        "scaler = StandardScaler()\n",
        "X_train_scaled = scaler.fit_transform(X_train.reshape([-1, 1]))\n",
        "X_valid_scaled = scaler.transform(X_valid.reshape([-1, 1]))"
      ]
    },
    {
      "cell_type": "markdown",
      "metadata": {
        "_uuid": "3dd1cfd5964170a4e916171a7906a88215831508",
        "id": "wBqXdxBP-NKL"
      },
      "source": [
        "Train created `SGDRegressor` with `(X_train_scaled, y_train)` data. \n",
        "**Feel free to change the hyperparameters of eta (learning rate) and n_epochs.** "
      ]
    },
    {
      "cell_type": "code",
      "execution_count": 14,
      "metadata": {
        "_uuid": "01bb8e49a0499e48b5bee2c38fb9ffbd3247ff3e",
        "id": "AhCj3aIb-NKL",
        "colab": {
          "base_uri": "https://localhost:8080/"
        },
        "outputId": "c9a11f6f-03da-4432-8f1c-33b653b4289c"
      },
      "outputs": [
        {
          "output_type": "stream",
          "name": "stderr",
          "text": [
            "100%|██████████| 3/3 [00:22<00:00,  7.65s/it]\n"
          ]
        },
        {
          "output_type": "execute_result",
          "data": {
            "text/plain": [
              "SGDRegressor()"
            ]
          },
          "metadata": {},
          "execution_count": 14
        }
      ],
      "source": [
        "# you code here\n",
        "# sgd_reg변수 바꾸기\n",
        "sgd_reg = SGDRegressor()\n",
        "sgd_reg.fit(X_train_scaled, y_train)"
      ]
    },
    {
      "cell_type": "markdown",
      "metadata": {
        "_uuid": "b6ca9a0486cf1c89fd6edb70759a939353b857ef",
        "id": "qcSXG-VP-NKL"
      },
      "source": [
        "** Draw a chart with training process **  – dependency of mean squared error from the i-th SGD iteration number. (y-axis: MSE, x-axis: training iteration)  \n",
        "* Example: trainig_process_chart_ref.png in eCampus\n",
        "### WARNING\n",
        "* Don't worry if your graph does not look exactly like this. This is just for your reference to understand what information you should plot. \n",
        "* DON'T FORGET TITLE, x-axis, y-axis and/or necessary information on your graph!  \n",
        "<img src=\"trainig_process_chart_ref.png\" alt=\"training\" style=\"width:400px;\"/>\n"
      ]
    },
    {
      "cell_type": "code",
      "execution_count": 15,
      "metadata": {
        "_uuid": "ca8dd04db2eba86340308ba96e49d80dbb0f15df",
        "id": "h4yrBY0q-NKL",
        "colab": {
          "base_uri": "https://localhost:8080/",
          "height": 279
        },
        "outputId": "7f54684e-8ad7-43bc-fe86-27378f7b3b59"
      },
      "outputs": [
        {
          "output_type": "display_data",
          "data": {
            "text/plain": [
              "<Figure size 432x288 with 1 Axes>"
            ],
            "image/png": "[encoded data removed]"
          },
          "metadata": {
            "needs_background": "light"
          }
        }
      ],
      "source": [
        "# you code here\n",
        "plt.plot(range(len(sgd_reg.mse_)), sgd_reg.mse_)\n",
        "plt.xlabel('#updates')\n",
        "plt.ylabel('MSE');"
      ]
    },
    {
      "cell_type": "markdown",
      "metadata": {
        "_uuid": "1efe52d81eeec338817647a7c57f46a860f41d31",
        "id": "M8NqBF61-NKM"
      },
      "source": [
        "Print the minimal value of mean squared error and the best weights vector."
      ]
    },
    {
      "cell_type": "code",
      "execution_count": 16,
      "metadata": {
        "_uuid": "84808aab7acaf5fd49a92e5a1877163e97b94906",
        "id": "tK3zG3hR-NKM",
        "colab": {
          "base_uri": "https://localhost:8080/"
        },
        "outputId": "214adbf0-b122-451f-d7ed-5c494a285bf2"
      },
      "outputs": [
        {
          "output_type": "execute_result",
          "data": {
            "text/plain": [
              "(2.7151352406643623, array([67.9898497 ,  0.94447605]))"
            ]
          },
          "metadata": {},
          "execution_count": 16
        }
      ],
      "source": [
        "# you code here\n",
        "np.min(sgd_reg.mse_), sgd_reg.w_"
      ]
    },
    {
      "cell_type": "markdown",
      "metadata": {
        "_uuid": "91bb34f2d42f87b7b352dfa38c07e233863154ce",
        "id": "sA0LjF4w-NKM"
      },
      "source": [
        "**Draw chart of model weights ($w_0$ and $w_1$) behavior during training.**\n",
        "* Example: weight_chart.png in the eCampus \n",
        "#### WARNING: \n",
        "* Don't worry if your graph does not look exactly like this. This is just for your reference to understand what information you should plot. \n",
        "* DON'T FORGET to mention TITLE, x-axis, y-axis and/or necessary information on your graph!  \n",
        "<img src=\"weight_chart_ref.png\" alt=\"training\" style=\"width:400px;\"/>\n",
        "\n"
      ]
    },
    {
      "cell_type": "code",
      "execution_count": 17,
      "metadata": {
        "_uuid": "b382dcaaaa8dffc4813e34cace68c63635f2dddb",
        "id": "imGXfFoj-NKM",
        "colab": {
          "base_uri": "https://localhost:8080/",
          "height": 265
        },
        "outputId": "e3fca7fd-c1db-4369-8764-9067cb1d5b22"
      },
      "outputs": [
        {
          "output_type": "display_data",
          "data": {
            "text/plain": [
              "<Figure size 432x288 with 2 Axes>"
            ],
            "image/png": "[encoded data removed]"
          },
          "metadata": {
            "needs_background": "light"
          }
        }
      ],
      "source": [
        "# you code here\n",
        "plt.subplot(121)\n",
        "plt.plot(range(len(sgd_reg.weights_)), \n",
        "         [w[0] for w in sgd_reg.weights_]);\n",
        "plt.subplot(122)\n",
        "plt.plot(range(len(sgd_reg.weights_)), \n",
        "         [w[1] for w in sgd_reg.weights_]);"
      ]
    },
    {
      "cell_type": "markdown",
      "metadata": {
        "_uuid": "c8bed1eb24256d97164ab396b02ad8fb0eabe069",
        "id": "CMcNoubk-NKM"
      },
      "source": [
        "**Make a prediction** for hold-out set `(X_valid_scaled, y_valid)` and check MSE value."
      ]
    },
    {
      "cell_type": "code",
      "execution_count": 18,
      "metadata": {
        "_uuid": "61206ff5908cd4c9a04ce08c2caef6e81b3c204e",
        "id": "T0pwp6hz-NKN",
        "colab": {
          "base_uri": "https://localhost:8080/"
        },
        "outputId": "4e4cb1bd-90f9-42f8-ce86-841522afe8eb"
      },
      "outputs": [
        {
          "output_type": "execute_result",
          "data": {
            "text/plain": [
              "2.6708681207033784"
            ]
          },
          "metadata": {},
          "execution_count": 18
        }
      ],
      "source": [
        "# you code here. you need to replace 10 with MSE.  \n",
        "sgd_holdout_mse = 10 \n",
        "sgd_holdout_mse = mean_squared_error(y_valid, \n",
        "                                        sgd_reg.predict(X_valid_scaled))\n",
        "sgd_holdout_mse"
      ]
    },
    {
      "cell_type": "markdown",
      "metadata": {
        "_uuid": "1b4450206464e151b40f32443c90716f7527740b",
        "id": "jgIRImLg-NKN"
      },
      "source": [
        "**Do the same thing** for `LinearRegression` class from `sklearn.linear_model`. Evaluate MSE for hold-out set."
      ]
    },
    {
      "cell_type": "code",
      "execution_count": 19,
      "metadata": {
        "_uuid": "9af850fa4a66d596df7143abec65eaf06264f477",
        "scrolled": true,
        "id": "ifavfk8W-NKN",
        "colab": {
          "base_uri": "https://localhost:8080/"
        },
        "outputId": "95d9ae20-35ad-4400-b47e-f129996f31c8"
      },
      "outputs": [
        {
          "output_type": "stream",
          "name": "stdout",
          "text": [
            "[0.94537278] 67.98930834742858\n"
          ]
        },
        {
          "output_type": "execute_result",
          "data": {
            "text/plain": [
              "2.670830767667635"
            ]
          },
          "metadata": {},
          "execution_count": 19
        }
      ],
      "source": [
        "# you code here\n",
        "# you need to replace 9 with MSE.  \n",
        "linreg_holdout_mse = 9\n",
        "\n",
        "from sklearn.linear_model import LinearRegression\n",
        "lm = LinearRegression().fit(X_train_scaled, y_train)\n",
        "print(lm.coef_, lm.intercept_)\n",
        "linreg_holdout_mse = mean_squared_error(y_valid, \n",
        "                                        lm.predict(X_valid_scaled))\n",
        "linreg_holdout_mse"
      ]
    },
    {
      "cell_type": "markdown",
      "metadata": {
        "id": "6WQ4yUTf-NKN"
      },
      "source": [
        "If you successfully implement, you will pass the following test. "
      ]
    },
    {
      "cell_type": "code",
      "execution_count": 20,
      "metadata": {
        "_uuid": "61e4706c45d87b09d6e9ea03a7bd8ac6eae3ee17",
        "id": "ccCm6X_e-NKN",
        "outputId": "df968531-7728-45bd-e9cc-1e9dc615b8ca",
        "colab": {
          "base_uri": "https://localhost:8080/"
        }
      },
      "outputs": [
        {
          "output_type": "stream",
          "name": "stdout",
          "text": [
            "Correct!\n"
          ]
        }
      ],
      "source": [
        "try:\n",
        "    assert (sgd_holdout_mse - linreg_holdout_mse) < 1e-4\n",
        "    print('Correct!')\n",
        "except AssertionError:\n",
        "    print(\"Something's not good.\\n Linreg's holdout MSE: {}\"\n",
        "          \"\\n SGD's holdout MSE: {}\".format(linreg_holdout_mse, \n",
        "                                            sgd_holdout_mse))"
      ]
    }
  ],
  "metadata": {
    "anaconda-cloud": {},
    "kernelspec": {
      "display_name": "Python 3 (ipykernel)",
      "language": "python",
      "name": "python3"
    },
    "language_info": {
      "codemirror_mode": {
        "name": "ipython",
        "version": 3
      },
      "file_extension": ".py",
      "mimetype": "text/x-python",
      "name": "python",
      "nbconvert_exporter": "python",
      "pygments_lexer": "ipython3",
      "version": "3.9.12"
    },
    "colab": {
      "provenance": [],
      "include_colab_link": true
    }
  },
  "nbformat": 4,
  "nbformat_minor": 0
}